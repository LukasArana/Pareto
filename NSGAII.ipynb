{
 "cells": [
  {
   "cell_type": "code",
   "execution_count": 29,
   "id": "daaedad4",
   "metadata": {},
   "outputs": [],
   "source": [
    "import numpy as np\n",
    "#helburu funtzioen sorrera\n",
    "def f1(X):\n",
    "    return X[0]\n",
    "def f2(X):\n",
    "    return X[1]\n",
    "def constraints(x):\n",
    "    x1, x2 = x[0], x[1]\n",
    "    calc1 = x1 **2 + x2** 2 -1 -0.1 * np.cos(16*np.arctan(x1/x2))\n",
    "    calc2 = (x1 - 0.5)**2 + (x2 - 0.5)**2\n",
    "    calc3 = x1 >= 0 and x1 <= np.pi and x2 >= 0 and x2 <= np.pi\n",
    "\n",
    "    if calc1 >= 0 and calc2 <= 0.5 and calc3 :\n",
    "        return(True, [x1, x2])\n",
    "    else:\n",
    "        return(False, [10, 10])    \n",
    "    \n",
    "    "
   ]
  },
  {
   "cell_type": "code",
   "execution_count": 30,
   "id": "7fd88f62",
   "metadata": {},
   "outputs": [],
   "source": [
    "import random\n",
    "def hasieraketa(pop):\n",
    "    populazioa = []\n",
    "    for i in range(pop):\n",
    "        lag = [np.random.uniform(0, np.pi), np.random.uniform(0, np.pi)]\n",
    "        while not constraints(lag)[0]:\n",
    "            lag = [np.random.uniform(0, np.pi), np.random.uniform(0, np.pi)]\n",
    "        populazioa.append(lag)\n",
    "    return populazioa\n",
    "\n",
    "def birkonbinaketa(x1, x2):\n",
    "    #x = [x1[0]*0.5 + x2[0]*0.5,x1[1] * 0.5 + 0.5*x2[1]]\n",
    "    x = [min(x1[0], x2[0]), min(x1[1], x2[1])]\n",
    "    return x\n",
    "def NSGA2(pop):\n",
    "    fs= []\n",
    "    suma = 0\n",
    "    while pop:\n",
    "        f = []\n",
    "        suma = 0\n",
    "        for i in pop:\n",
    "            dom = True\n",
    "            for j in pop:\n",
    "                suma += 1\n",
    "                if dominates(j, i):\n",
    "                    dom = False\n",
    "                    suma +=1\n",
    "                    break\n",
    "            if dom:\n",
    "                f.append(i)\n",
    "        for i in f:\n",
    "            pop.remove(i)\n",
    "        fs.append(f)\n",
    "    return fs\n",
    "def dominates(X, Y):\n",
    "    if (X[0] < Y[0] and X[1]<=Y[1]) or (X[0] <= Y[0] and X[1]<Y[1]): return True\n",
    "    return False\n",
    "\n",
    "\n",
    "            \n",
    "def tournament_selection(pop):\n",
    "    idx1 = random.randint(0, len(pop)-1)\n",
    "    idx2 = random.randint(0, len(pop)-1)\n",
    "    if idx1 < idx2:\n",
    "        return pop[idx1]\n",
    "    else:\n",
    "        return pop[idx2]\n"
   ]
  },
  {
   "cell_type": "code",
   "execution_count": 31,
   "id": "32609ddb",
   "metadata": {
    "scrolled": false
   },
   "outputs": [
    {
     "name": "stdout",
     "output_type": "stream",
     "text": [
      "42\n"
     ]
    },
    {
     "ename": "NameError",
     "evalue": "name 'cosntraints' is not defined",
     "output_type": "error",
     "traceback": [
      "\u001b[0;31m---------------------------------------------------------------------------\u001b[0m",
      "\u001b[0;31mNameError\u001b[0m                                 Traceback (most recent call last)",
      "Input \u001b[0;32mIn [31]\u001b[0m, in \u001b[0;36m<cell line: 34>\u001b[0;34m()\u001b[0m\n\u001b[1;32m     31\u001b[0m     res \u001b[38;5;241m=\u001b[39m F[\u001b[38;5;241m0\u001b[39m]\n\u001b[1;32m     32\u001b[0m     \u001b[38;5;28;01mreturn\u001b[39;00m res\n\u001b[0;32m---> 34\u001b[0m \u001b[43mgenetikoa\u001b[49m\u001b[43m(\u001b[49m\u001b[43m)\u001b[49m\n",
      "Input \u001b[0;32mIn [31]\u001b[0m, in \u001b[0;36mgenetikoa\u001b[0;34m()\u001b[0m\n\u001b[1;32m     19\u001b[0m     b \u001b[38;5;241m=\u001b[39m tournament_selection(lag)\n\u001b[1;32m     20\u001b[0m     berria \u001b[38;5;241m=\u001b[39m birkonbinaketa(a, b)\n\u001b[0;32m---> 21\u001b[0m     pop_berria\u001b[38;5;241m.\u001b[39mappend(\u001b[43mcosntraints\u001b[49m(berria)[\u001b[38;5;241m1\u001b[39m])\n\u001b[1;32m     23\u001b[0m \u001b[38;5;66;03m#print(pop_berria)\u001b[39;00m\n\u001b[1;32m     24\u001b[0m pop_berria \u001b[38;5;241m=\u001b[39m [mutazioa(i) \u001b[38;5;28;01mfor\u001b[39;00m i \u001b[38;5;129;01min\u001b[39;00m pop_berria]\n",
      "\u001b[0;31mNameError\u001b[0m: name 'cosntraints' is not defined"
     ]
    }
   ],
   "source": [
    "def genetikoa():\n",
    "    n = 1000\n",
    "    pop = hasieraketa(n)\n",
    "    for i in range(100):\n",
    "        F = NSGA2(pop)\n",
    "        #Hartu onenak\n",
    "        f_num = 0\n",
    "        print(len(F[0]))\n",
    "        pop_berria = F[f_num]\n",
    "        f_num += 1\n",
    "        while len(pop_berria) < n/2:\n",
    "            for i in F[f_num]:\n",
    "                pop_berria.append(i)\n",
    "            f_num += 1\n",
    "        lag = pop_berria.copy()\n",
    "        #onenetatik berria sortu\n",
    "        while len(pop_berria) < n:\n",
    "            a= tournament_selection(lag)\n",
    "            b = tournament_selection(lag)\n",
    "            berria = birkonbinaketa(a, b)\n",
    "            pop_berria.append(cosntraints(berria)[1])\n",
    "            \n",
    "        #print(pop_berria)\n",
    "        pop_berria = [mutazioa(i) for i in pop_berria]\n",
    "        pop = pop_berria\n",
    "        suma = 0\n",
    "        for i in pop:\n",
    "            suma += i[0] + i[1]\n",
    "        print(suma)\n",
    "    F = NSGA2(pop)\n",
    "    res = F[0]\n",
    "    return res\n",
    "\n",
    "genetikoa()"
   ]
  },
  {
   "cell_type": "code",
   "execution_count": 284,
   "id": "e6078256",
   "metadata": {},
   "outputs": [
    {
     "name": "stdout",
     "output_type": "stream",
     "text": [
      "12\n"
     ]
    }
   ],
   "source": [
    "pop = hasieraketa(5000)\n",
    "values1  = [i[0] for i in pop]\n",
    "values2 = [i[1] for i in pop]\n",
    "a = NSGA(values1, values2)\n",
    "print(len(a[0]))"
   ]
  },
  {
   "cell_type": "code",
   "execution_count": 415,
   "id": "2c3a7307",
   "metadata": {},
   "outputs": [
    {
     "name": "stdout",
     "output_type": "stream",
     "text": [
      "1\n",
      "72\n"
     ]
    }
   ],
   "source": [
    "pop = hasieraketa(5000)\n",
    "def NSGA2(pop):\n",
    "    fs= []\n",
    "    suma = 0\n",
    "    while pop:\n",
    "        f = []\n",
    "        suma = 0\n",
    "        for i in pop:\n",
    "            dom = True\n",
    "            for j in pop:\n",
    "                suma += 1\n",
    "                if dominates(j, i):\n",
    "                    dom = False\n",
    "                    suma +=1\n",
    "                    break\n",
    "            if dom:\n",
    "                f.append(i)\n",
    "        for i in f:\n",
    "            pop.remove(i)\n",
    "        fs.append(f)\n",
    "    print(suma)\n",
    "    return fs\n",
    "\n",
    "d = NSGA2(pop)\n",
    "print(len(d))"
   ]
  },
  {
   "cell_type": "code",
   "execution_count": 413,
   "id": "35b7c952",
   "metadata": {},
   "outputs": [
    {
     "name": "stdout",
     "output_type": "stream",
     "text": [
      "75\n"
     ]
    }
   ],
   "source": []
  },
  {
   "cell_type": "code",
   "execution_count": 414,
   "id": "b0c441a0",
   "metadata": {},
   "outputs": [
    {
     "data": {
      "image/png": "[encoded data removed]",
      "text/plain": [
       "<Figure size 432x288 with 1 Axes>"
      ]
     },
     "metadata": {
      "needs_background": "light"
     },
     "output_type": "display_data"
    }
   ],
   "source": [
    "import numpy as np\n",
    "from matplotlib import pyplot as plt\n",
    "plt.scatter(*zip(*d[0]))\n",
    "plt.xlabel('x1, f1')\n",
    "plt.ylabel('x2, f2')\n",
    "plt.show()"
   ]
  },
  {
   "cell_type": "code",
   "execution_count": null,
   "id": "59c87768",
   "metadata": {},
   "outputs": [],
   "source": []
  }
 ],
 "metadata": {
  "kernelspec": {
   "display_name": "Python 3 (ipykernel)",
   "language": "python",
   "name": "python3"
  },
  "language_info": {
   "codemirror_mode": {
    "name": "ipython",
    "version": 3
   },
   "file_extension": ".py",
   "mimetype": "text/x-python",
   "name": "python",
   "nbconvert_exporter": "python",
   "pygments_lexer": "ipython3",
   "version": "3.9.12"
  }
 },
 "nbformat": 4,
 "nbformat_minor": 5
}
